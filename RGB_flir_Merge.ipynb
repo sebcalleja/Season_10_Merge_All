{
 "cells": [
  {
   "cell_type": "code",
   "execution_count": 1,
   "metadata": {},
   "outputs": [],
   "source": [
    "import pandas as pd\n",
    "import numpy as np\n",
    "import glob\n",
    "import os\n",
    "import datetime\n",
    "import re\n",
    "from datetime import datetime\n",
    "\n",
    "# %cd /Volumes/SEB_USB/Season_10/"
   ]
  },
  {
   "cell_type": "code",
   "execution_count": 2,
   "metadata": {},
   "outputs": [],
   "source": [
    "def get_date_from_string(text):\n",
    "    match = re.search(r'\\d{4}-\\d{2}-\\d{2}', text)\n",
    "    date = datetime.strptime(match.group(), '%Y-%m-%d').date()\n",
    "    return date\n",
    "\n",
    "\n",
    "# --------------------------------------------------\n",
    "def get_ps2_dataframe(csv_path):\n",
    "    df_list = []\n",
    "\n",
    "    for csv in glob.glob(csv_path):\n",
    "        date_df = pd.read_csv(csv)\n",
    "        date = get_date_from_string(os.path.basename(csv))\n",
    "        date_df['date'] = pd.to_datetime(date)\n",
    "        df_list.append(date_df)  \n",
    "\n",
    "    ps2_df = pd.concat(df_list).drop('Unnamed: 0', axis=1)\n",
    "\n",
    "    return ps2_df\n",
    "\n",
    "\n",
    "# --------------------------------------------------\n",
    "def clean_plot_column_rgb_flir(rgb_flir_merged):\n",
    "    \n",
    "    rgb_flir_merged['plot'] = rgb_flir_merged['plot'].str.split('_', expand=True)[6].astype(str).str.zfill(2) + rgb_flir_merged['plot'].str.split('_', expand=True)[8].astype(str).str.zfill(2)\n",
    "\n",
    "    return rgb_flir_merged\n",
    "\n",
    "\n",
    "# --------------------------------------------------\n",
    "def clean_plot_column_ps2(ps2_df):\n",
    "\n",
    "    ps2_df['plot'] = ps2_df['Plot'].str.split(' ', expand=True)[6].astype(str).str.zfill(2) + ps2_df['Plot'].str.split(' ', expand=True)[8].astype(str).str.zfill(2)\n",
    "    ps2_df = ps2_df.drop('Plot', axis=1).set_index('plot')\n",
    "\n",
    "    return ps2_df\n",
    "\n",
    "\n",
    "# --------------------------------------------------\n",
    "def get_3d_dataframe(csv_path):\n",
    "\n",
    "    df_list = []\n",
    "\n",
    "    for csv in glob.glob(csv_path):\n",
    "        date_df = pd.read_csv(csv)\n",
    "        date = get_date_from_string(os.path.basename(csv))\n",
    "        date_df['date'] = pd.to_datetime(date)\n",
    "        df_list.append(date_df) \n",
    "\n",
    "    three_df = pd.concat(df_list).drop('Unnamed: 0', axis=1)\n",
    "\n",
    "    return three_df\n",
    "\n",
    "\n",
    "# --------------------------------------------------\n",
    "def add_fieldbook_information(df, fb_path):\n",
    "\n",
    "    fb = pd.read_csv(fb_path, dtype='str')\n",
    "    fb = fb.set_index('plot')\n",
    "\n",
    "    if 'plant_name' in df.columns.unique().to_list():\n",
    "        df = fb.join(df).reset_index().set_index(['date', 'plot', 'year', 'experiment', 'field', 'treatment', 'rep', 'range', 'column', 'genotype', 'plant_name'])\n",
    "    else:\n",
    "        df = fb.join(df).reset_index().set_index(['date', 'plot', 'year', 'experiment', 'field', 'treatment', 'rep', 'range', 'column', 'genotype'])\n",
    "\n",
    "    return df"
   ]
  },
  {
   "cell_type": "markdown",
   "metadata": {},
   "source": [
    "# RGB & FLIR"
   ]
  },
  {
   "cell_type": "markdown",
   "metadata": {},
   "source": [
    "### Open data"
   ]
  },
  {
   "cell_type": "code",
   "execution_count": 3,
   "metadata": {},
   "outputs": [],
   "source": [
    "rgb = pd.read_csv('Haiquan/stereoTop_full_season_clustering.csv').drop(['treatment', 'genotype'], axis=1)\n",
    "rgb = clean_plot_column_rgb_flir(rgb)\n",
    "\n",
    "thermal = pd.read_csv('Haiquan/s10_flir_rgb_clustering_v4.csv').drop(['min_x', 'max_x', 'min_y', 'max_y'], axis=1).drop(['index', 'treatment', 'genotype', 'bounding_area_m2', 'double_lettuce'], axis=1)\n",
    "thermal = clean_plot_column_rgb_flir(thermal)"
   ]
  },
  {
   "cell_type": "markdown",
   "metadata": {},
   "source": [
    "### Convert date string to datetime"
   ]
  },
  {
   "cell_type": "code",
   "execution_count": 4,
   "metadata": {},
   "outputs": [],
   "source": [
    "thermal['date'] = pd.to_datetime(thermal['date'])\n",
    "rgb['date'] = pd.to_datetime(rgb['date'])"
   ]
  },
  {
   "cell_type": "markdown",
   "metadata": {},
   "source": [
    "### Set shared index"
   ]
  },
  {
   "cell_type": "code",
   "execution_count": 5,
   "metadata": {},
   "outputs": [],
   "source": [
    "rgb = rgb.set_index('plot')\n",
    "thermal = thermal.set_index('plot')"
   ]
  },
  {
   "cell_type": "markdown",
   "metadata": {},
   "source": [
    "### Add fieldbook information"
   ]
  },
  {
   "cell_type": "code",
   "execution_count": 6,
   "metadata": {},
   "outputs": [],
   "source": [
    "rgb = add_fieldbook_information(rgb, 'lettuce_field_book.csv')\n",
    "thermal = add_fieldbook_information(thermal, 'lettuce_field_book.csv')\n"
   ]
  },
  {
   "cell_type": "markdown",
   "metadata": {},
   "source": [
    "### Join RGB and FLIR"
   ]
  },
  {
   "cell_type": "code",
   "execution_count": 7,
   "metadata": {},
   "outputs": [],
   "source": [
    "rgb_flir_merged = rgb.join(thermal).dropna(subset=['median', 'bounding_area_m2'], how='all')"
   ]
  },
  {
   "cell_type": "markdown",
   "metadata": {},
   "source": [
    "# RGB|FLIR & PSII"
   ]
  },
  {
   "cell_type": "markdown",
   "metadata": {},
   "source": [
    "### Open PSII data"
   ]
  },
  {
   "cell_type": "code",
   "execution_count": 8,
   "metadata": {},
   "outputs": [],
   "source": [
    "ps2_df = get_ps2_dataframe('./Haiquan/PS2/*.csv')\n",
    "ps2_df = clean_plot_column_ps2(ps2_df)"
   ]
  },
  {
   "cell_type": "markdown",
   "metadata": {},
   "source": [
    "### Add fieldbook information"
   ]
  },
  {
   "cell_type": "code",
   "execution_count": 9,
   "metadata": {},
   "outputs": [],
   "source": [
    "ps2_df = add_fieldbook_information(ps2_df, 'lettuce_field_book.csv')"
   ]
  },
  {
   "cell_type": "markdown",
   "metadata": {},
   "source": [
    "### Merge RGB|FLIR and PSII"
   ]
  },
  {
   "cell_type": "code",
   "execution_count": 10,
   "metadata": {},
   "outputs": [],
   "source": [
    "merged = rgb_flir_merged.join(ps2_df, how='outer').reset_index().dropna(subset=['bounding_area_m2', 'median', 'FV/FM'], how='all')"
   ]
  },
  {
   "cell_type": "markdown",
   "metadata": {},
   "source": [
    "### Get individual plant mapping values"
   ]
  },
  {
   "cell_type": "code",
   "execution_count": 11,
   "metadata": {},
   "outputs": [],
   "source": [
    "individual_plant_map = merged.drop_duplicates(subset='plant_name')[['plot', 'year', 'experiment', 'field', 'treatment', 'rep', 'range', 'column', 'genotype', 'plant_name']].set_index('plant_name')"
   ]
  },
  {
   "cell_type": "markdown",
   "metadata": {},
   "source": [
    "# RGB|FLIR|PSII & 3D"
   ]
  },
  {
   "cell_type": "markdown",
   "metadata": {},
   "source": [
    "### Open 3D data"
   ]
  },
  {
   "cell_type": "code",
   "execution_count": 12,
   "metadata": {},
   "outputs": [],
   "source": [
    "three_df = get_3d_dataframe('tda_volumes_full_resolution/*.csv')\n",
    "three_df = three_df.set_index('plant_name')\n",
    "three_df = individual_plant_map.join(three_df).reset_index()"
   ]
  },
  {
   "cell_type": "markdown",
   "metadata": {},
   "source": [
    "### Merge RGB|FLIR|PSII and 3D"
   ]
  },
  {
   "cell_type": "code",
   "execution_count": 15,
   "metadata": {},
   "outputs": [],
   "source": [
    "final_merged = merged.set_index(['date', 'plant_name', 'plot', 'year', 'experiment', 'field', 'treatment', 'rep', 'range', 'column', 'genotype'])\\\n",
    "    .join(three_df.set_index(['date', 'plant_name', 'plot', 'year', 'experiment', 'field', 'treatment', 'rep', 'range', 'column', 'genotype']), how='outer').reset_index()\\\n",
    "        .dropna(subset=['bounding_area_m2', 'median', 'FV/FM', 'hull_volume'], how='all')"
   ]
  },
  {
   "cell_type": "markdown",
   "metadata": {},
   "source": [
    "### Save final merged file"
   ]
  },
  {
   "cell_type": "code",
   "execution_count": 17,
   "metadata": {},
   "outputs": [],
   "source": [
    "final_merged.to_csv('season10_lettuce_gantry_data_full.csv')"
   ]
  }
 ],
 "metadata": {
  "interpreter": {
   "hash": "40d3a090f54c6569ab1632332b64b2c03c39dcf918b08424e98f38b5ae0af88f"
  },
  "kernelspec": {
   "display_name": "Python 3.8.3 ('base')",
   "language": "python",
   "name": "python3"
  },
  "language_info": {
   "codemirror_mode": {
    "name": "ipython",
    "version": 3
   },
   "file_extension": ".py",
   "mimetype": "text/x-python",
   "name": "python",
   "nbconvert_exporter": "python",
   "pygments_lexer": "ipython3",
   "version": "3.9.10"
  },
  "orig_nbformat": 4
 },
 "nbformat": 4,
 "nbformat_minor": 2
}
