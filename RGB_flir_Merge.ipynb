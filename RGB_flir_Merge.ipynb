{
 "cells": [
  {
   "cell_type": "code",
   "execution_count": 27,
   "metadata": {},
   "outputs": [],
   "source": [
    "import pandas as pd\n",
    "import numpy as np\n",
    "import glob\n",
    "import os\n",
    "import datetime"
   ]
  },
  {
   "cell_type": "code",
   "execution_count": 28,
   "metadata": {},
   "outputs": [
    {
     "name": "stdout",
     "output_type": "stream",
     "text": [
      "/Volumes/SEB_USB/Season_10\n"
     ]
    }
   ],
   "source": [
    "%cd /Volumes/SEB_USB/Season_10/"
   ]
  },
  {
   "cell_type": "code",
   "execution_count": 29,
   "metadata": {},
   "outputs": [],
   "source": [
    "## s10_flir csv file is the same as the combined RGB_flir, but without the RGB data\n",
    "thermal = pd.read_csv('Haiquan/s10_flir.csv')\n",
    "RGB = pd.read_csv('Haiquan/stereoTop_full_season_clustering.csv')\n",
    "\n",
    "Rgb_flir = pd.read_csv('Haiquan/s10_flir_rgb_clustering_v4.csv')"
   ]
  },
  {
   "cell_type": "code",
   "execution_count": 30,
   "metadata": {},
   "outputs": [],
   "source": [
    "del thermal['treatment']\n",
    "\n",
    "thermal['date'] = pd.to_datetime(thermal['date'])\n",
    "RGB['date'] = pd.to_datetime(RGB['date'])\n",
    "\n",
    "thermal = thermal.sort_values(by = ['date', 'plant_name'])\n",
    "RGB = RGB.sort_values(by = ['date', 'plant_name'])"
   ]
  },
  {
   "cell_type": "code",
   "execution_count": 31,
   "metadata": {},
   "outputs": [],
   "source": [
    "# ## Assessing the amount of NaN values in columns\n",
    "# percent_missing = Rgb_flir.isnull().sum() * 100 / len(Rgb_flir)\n",
    "# missing_value_df = pd.DataFrame({'column_name': Rgb_flir.columns,\n",
    "#                                  'percent_missing': percent_missing})\n",
    "\n",
    "# missing_value_by_date_df = Rgb_flir.groupby('date')['plant_name'].apply(lambda x: x.isnull().sum()/len(x)*100)"
   ]
  },
  {
   "cell_type": "code",
   "execution_count": 32,
   "metadata": {},
   "outputs": [],
   "source": [
    "# nan_df = Rgb_flir[Rgb_flir['plant_name'].isna()]"
   ]
  },
  {
   "cell_type": "code",
   "execution_count": 33,
   "metadata": {},
   "outputs": [],
   "source": [
    "thermal = thermal.reset_index()\n",
    "del thermal['index']\n",
    "\n",
    "RGB = RGB.reset_index()\n",
    "del RGB['index']"
   ]
  },
  {
   "cell_type": "code",
   "execution_count": 34,
   "metadata": {},
   "outputs": [],
   "source": [
    "RGB = RGB.set_index(['date', 'plant_name'])\n",
    "thermal = thermal.set_index(['date', 'plant_name'])"
   ]
  },
  {
   "cell_type": "code",
   "execution_count": 35,
   "metadata": {},
   "outputs": [],
   "source": [
    "rgb_flir_merged = RGB.join(thermal).reset_index()"
   ]
  },
  {
   "cell_type": "markdown",
   "metadata": {},
   "source": [
    "## Concatenating all of the ps2 csv files and then importing them"
   ]
  },
  {
   "cell_type": "code",
   "execution_count": 38,
   "metadata": {},
   "outputs": [],
   "source": [
    "os.chdir(\"Haiquan/PS2/\")\n",
    "\n",
    "df = pd.DataFrame()\n",
    "for file in glob.glob(\"*.csv\", recursive = True):\n",
    "     if file.endswith('.csv'):\n",
    "            csv = pd.read_csv(file)\n",
    "            csv['filename'] = os.path.basename(file)\n",
    "            df = df.append(csv)\n",
    "            del df['Unnamed: 0']"
   ]
  },
  {
   "cell_type": "code",
   "execution_count": 39,
   "metadata": {},
   "outputs": [],
   "source": [
    "## Organize the ps2 file\n",
    "df['Plot'] = df['Plot'].str.replace(' ','_')\n",
    "df['date'] = df['filename'].str[0:10]\n",
    "\n",
    "df = df.sort_values(by = ['date', 'Plot'])"
   ]
  },
  {
   "cell_type": "code",
   "execution_count": 40,
   "metadata": {},
   "outputs": [],
   "source": [
    "df = df.reset_index()\n",
    "del df['index']\n",
    "df = df.rename(columns = {'Plot':'plot'})\n",
    "del df['filename']"
   ]
  },
  {
   "cell_type": "code",
   "execution_count": 41,
   "metadata": {},
   "outputs": [],
   "source": [
    "df['date'] = pd.to_datetime(df['date']).dt.date\n",
    "rgb_flir_merged['date'] = pd.to_datetime(rgb_flir_merged['date']).dt.date"
   ]
  },
  {
   "cell_type": "code",
   "execution_count": 46,
   "metadata": {},
   "outputs": [],
   "source": [
    "df = df.sort_values(by = ['date', 'plot'])\n",
    "rgb_flir_merged = rgb_flir_merged.sort_values(by = ['date', 'plot'])"
   ]
  },
  {
   "cell_type": "markdown",
   "metadata": {},
   "source": [
    "## Attempting to only use plot number rather than the entire string"
   ]
  },
  {
   "cell_type": "code",
   "execution_count": 50,
   "metadata": {},
   "outputs": [],
   "source": [
    "rgb_flir_merged['Range'] = rgb_flir_merged['plot'].str.split('_').str[6]\n",
    "df['Range'] = df['plot'].str.split('_').str[6]\n",
    "\n",
    "rgb_flir_merged['Column'] = rgb_flir_merged['plot'].str.split('_').str[8]\n",
    "df['Column'] = df['plot'].str.split('_').str[8]"
   ]
  },
  {
   "cell_type": "code",
   "execution_count": 51,
   "metadata": {},
   "outputs": [],
   "source": [
    "df['Range'] = df['Range'].str.zfill(2)\n",
    "rgb_flir_merged['Range'] = rgb_flir_merged['Range'].str.zfill(2)\n",
    "\n",
    "df['Column'] = df['Column'].str.zfill(2)\n",
    "rgb_flir_merged['Column'] = rgb_flir_merged['Column'].str.zfill(2)"
   ]
  },
  {
   "cell_type": "code",
   "execution_count": 52,
   "metadata": {},
   "outputs": [],
   "source": [
    "df['Plot_num'] = df['Range'] + df['Column']\n",
    "rgb_flir_merged['Plot_num'] = rgb_flir_merged['Range'] + rgb_flir_merged['Column']"
   ]
  },
  {
   "cell_type": "code",
   "execution_count": 54,
   "metadata": {},
   "outputs": [],
   "source": [
    "del df['Range']\n",
    "del df['Column']\n",
    "del rgb_flir_merged['Range']\n",
    "del rgb_flir_merged['Column']\n"
   ]
  },
  {
   "cell_type": "code",
   "execution_count": 58,
   "metadata": {},
   "outputs": [],
   "source": [
    "del df['plot']"
   ]
  },
  {
   "cell_type": "markdown",
   "metadata": {},
   "source": [
    "## Prepping for Merge"
   ]
  },
  {
   "cell_type": "code",
   "execution_count": 59,
   "metadata": {},
   "outputs": [],
   "source": [
    "df = df.set_index(['date', 'Plot_num'])\n",
    "rgb_flir_merged = rgb_flir_merged.set_index(['date', 'Plot_num'])"
   ]
  },
  {
   "cell_type": "code",
   "execution_count": 62,
   "metadata": {},
   "outputs": [],
   "source": [
    "merged = rgb_flir_merged.join(df).reset_index()"
   ]
  },
  {
   "cell_type": "code",
   "execution_count": 66,
   "metadata": {},
   "outputs": [],
   "source": [
    "# merged.to_csv('s10_Haiquan_updated.csv')"
   ]
  },
  {
   "cell_type": "code",
   "execution_count": null,
   "metadata": {},
   "outputs": [],
   "source": []
  }
 ],
 "metadata": {
  "interpreter": {
   "hash": "40d3a090f54c6569ab1632332b64b2c03c39dcf918b08424e98f38b5ae0af88f"
  },
  "kernelspec": {
   "display_name": "Python 3.8.3 ('base')",
   "language": "python",
   "name": "python3"
  },
  "language_info": {
   "codemirror_mode": {
    "name": "ipython",
    "version": 3
   },
   "file_extension": ".py",
   "mimetype": "text/x-python",
   "name": "python",
   "nbconvert_exporter": "python",
   "pygments_lexer": "ipython3",
   "version": "3.8.3"
  },
  "orig_nbformat": 4
 },
 "nbformat": 4,
 "nbformat_minor": 2
}
