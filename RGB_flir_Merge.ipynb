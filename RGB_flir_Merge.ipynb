{
 "cells": [
  {
   "cell_type": "code",
   "execution_count": 1,
   "metadata": {},
   "outputs": [],
   "source": [
    "import pandas as pd\n",
    "import numpy as np\n",
    "import glob\n",
    "import os\n",
    "import datetime\n",
    "import re\n",
    "from datetime import datetime\n",
    "\n",
    "# %cd /Volumes/SEB_USB/Season_10/"
   ]
  },
  {
   "cell_type": "code",
   "execution_count": null,
   "metadata": {},
   "outputs": [],
   "source": [
    "def get_date_from_string(text):\n",
    "    match = re.search(r'\\d{4}-\\d{2}-\\d{2}', text)\n",
    "    date = datetime.strptime(match.group(), '%Y-%m-%d').date()\n",
    "    return date\n",
    "\n",
    "\n",
    "# --------------------------------------------------\n",
    "def get_ps2_dataframe(csv_path):\n",
    "    df_list = []\n",
    "\n",
    "    for csv in glob.glob(csv_path):\n",
    "        date_df = pd.read_csv(csv)\n",
    "        date = get_date_from_string(os.path.basename(csv))\n",
    "        date_df['date'] = pd.to_datetime(date)\n",
    "        df_list.append(date_df)  \n",
    "\n",
    "    ps2_df = pd.concat(df_list).drop('Unnamed: 0', axis=1)\n",
    "\n",
    "    return ps2_df\n",
    "\n",
    "\n",
    "# --------------------------------------------------\n",
    "def clean_plot_column_rgb_flir(rgb_flir_merged):\n",
    "    \n",
    "    rgb_flir_merged['plot'] = rgb_flir_merged['plot'].str.split('_', expand=True)[6].astype(str).str.zfill(2) + rgb_flir_merged['plot'].str.split('_', expand=True)[8].astype(str).str.zfill(2)\n",
    "\n",
    "    return rgb_flir_merged\n",
    "\n",
    "\n",
    "# --------------------------------------------------\n",
    "def clean_plot_column_ps2(ps2_df):\n",
    "\n",
    "    ps2_df['plot'] = ps2_df['Plot'].str.split(' ', expand=True)[6].astype(str).str.zfill(2) + ps2_df['Plot'].str.split(' ', expand=True)[8].astype(str).str.zfill(2)\n",
    "    ps2_df = ps2_df.drop('Plot', axis=1)\n",
    "\n",
    "    return ps2_df"
   ]
  },
  {
   "cell_type": "markdown",
   "metadata": {},
   "source": [
    "# RGB & FLIR"
   ]
  },
  {
   "cell_type": "markdown",
   "metadata": {},
   "source": [
    "### Open data"
   ]
  },
  {
   "cell_type": "code",
   "execution_count": null,
   "metadata": {},
   "outputs": [],
   "source": [
    "thermal = pd.read_csv('Haiquan/s10_flir.csv').drop('treatment', axis=1)\n",
    "rgb = pd.read_csv('Haiquan/stereoTop_full_season_clustering.csv')"
   ]
  },
  {
   "cell_type": "markdown",
   "metadata": {},
   "source": [
    "### Convert date string to datetime"
   ]
  },
  {
   "cell_type": "code",
   "execution_count": null,
   "metadata": {},
   "outputs": [],
   "source": [
    "thermal['date'] = pd.to_datetime(thermal['date'])\n",
    "rgb['date'] = pd.to_datetime(rgb['date'])"
   ]
  },
  {
   "cell_type": "markdown",
   "metadata": {},
   "source": [
    "### Set shared index"
   ]
  },
  {
   "cell_type": "code",
   "execution_count": null,
   "metadata": {},
   "outputs": [],
   "source": [
    "rgb = rgb.set_index(['date', 'plant_name'])\n",
    "thermal = thermal.set_index(['date', 'plant_name'])"
   ]
  },
  {
   "cell_type": "markdown",
   "metadata": {},
   "source": [
    "### Join RGB and FLIR"
   ]
  },
  {
   "cell_type": "code",
   "execution_count": null,
   "metadata": {},
   "outputs": [],
   "source": [
    "rgb_flir_merged = rgb.join(thermal, how='outer').reset_index()"
   ]
  },
  {
   "cell_type": "code",
   "execution_count": null,
   "metadata": {},
   "outputs": [],
   "source": [
    "rgb_flir_merged = clean_plot_column_rgb_flir(rgb_flir_merged)"
   ]
  },
  {
   "cell_type": "markdown",
   "metadata": {},
   "source": [
    "# RGB|FLIR & PSII"
   ]
  },
  {
   "cell_type": "markdown",
   "metadata": {},
   "source": [
    "### Open PSII data"
   ]
  },
  {
   "cell_type": "code",
   "execution_count": null,
   "metadata": {},
   "outputs": [],
   "source": [
    "ps2_df = get_ps2_dataframe('./Haiquan/PS2/*.csv')\n",
    "ps2_df = clean_plot_column_ps2(ps2_df)"
   ]
  },
  {
   "cell_type": "markdown",
   "metadata": {},
   "source": [
    "### Prepare RGB|FLIR & PSII for merging"
   ]
  },
  {
   "cell_type": "code",
   "execution_count": null,
   "metadata": {},
   "outputs": [],
   "source": [
    "ps2_df = ps2_df.set_index(['date', 'plot'])\n",
    "rgb_flir_merged = rgb_flir_merged.set_index(['date', 'plot'])"
   ]
  },
  {
   "cell_type": "code",
   "execution_count": null,
   "metadata": {},
   "outputs": [],
   "source": [
    "merged = rgb_flir_merged.join(ps2_df, how='outer').reset_index()"
   ]
  },
  {
   "cell_type": "code",
   "execution_count": null,
   "metadata": {},
   "outputs": [],
   "source": [
    "merged.to_csv('season10_lettuce_gantry_data.csv')"
   ]
  }
 ],
 "metadata": {
  "interpreter": {
   "hash": "40d3a090f54c6569ab1632332b64b2c03c39dcf918b08424e98f38b5ae0af88f"
  },
  "kernelspec": {
   "display_name": "Python 3.8.3 ('base')",
   "language": "python",
   "name": "python3"
  },
  "language_info": {
   "codemirror_mode": {
    "name": "ipython",
    "version": 3
   },
   "file_extension": ".py",
   "mimetype": "text/x-python",
   "name": "python",
   "nbconvert_exporter": "python",
   "pygments_lexer": "ipython3",
   "version": "3.9.10"
  },
  "orig_nbformat": 4
 },
 "nbformat": 4,
 "nbformat_minor": 2
}
